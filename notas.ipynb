{
 "cells": [
  {
   "cell_type": "code",
   "execution_count": null,
   "metadata": {},
   "outputs": [],
   "source": []
  },
  {
   "attachments": {},
   "cell_type": "markdown",
   "metadata": {},
   "source": [
    "un dataframe es una coleccion de series"
   ]
  },
  {
   "attachments": {},
   "cell_type": "markdown",
   "metadata": {},
   "source": [
    "Inconsistencia de datos: que la fecha de nacimiento no coincida con la edad."
   ]
  },
  {
   "attachments": {},
   "cell_type": "markdown",
   "metadata": {},
   "source": [
    "El cuarteto de Anscome\n",
    "\n",
    "SUPUESTOS DE LA REGRESION LINEAL \n",
    "    Linealidad: si hay mas de una variable independiente tiene que haber una relacion lineal entre y y cada una de esas variables independientes\n",
    "\n",
    "    Homoscedasticidad: se refiere a la variacion de los datos al rededor de la linea. La varianza de los errores debe ser constante en todos los niveles de x.\n",
    "\n",
    "    Normalidad Multivariada: la distribucion del error sobre la linea. Los errores deben seguir una distribución normal.\n",
    "\n",
    "    Independencia: si hay algo mas pasando entre las variables independientes, no lo podemos usar. Los errores deben ser independientes entre sí\n",
    "\n",
    "    Falta de multicolinealidada: no haya relacion entre las viriables independientes. Las variables independientes no deben estar altamente correlacionadas entre sí.\n",
    "\n",
    "    Pruebas de datos atipicos: si hay datos atipicos tenemos que descartar "
   ]
  }
 ],
 "metadata": {
  "kernelspec": {
   "display_name": ".env",
   "language": "python",
   "name": "python3"
  },
  "language_info": {
   "name": "python",
   "version": "3.10.9"
  },
  "orig_nbformat": 4,
  "vscode": {
   "interpreter": {
    "hash": "f062555c50662c5f9528be737818270090d7e7add6576dd063a6c336f5024afb"
   }
  }
 },
 "nbformat": 4,
 "nbformat_minor": 2
}
